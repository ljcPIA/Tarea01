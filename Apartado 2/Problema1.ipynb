{
 "cells": [
  {
   "cell_type": "markdown",
   "metadata": {},
   "source": [
    "# Problema 1. División de una lista de enteros.\n",
    "Escribe una función que reciba por parámetro una lista de enteros y devuelva dos listas: <br>\n",
    "una con los valores negativos que tuviera y otra con los positivos.<br>\n",
    "Ambas listas deben estar ordenadas ascendentemente."
   ]
  },
  {
   "cell_type": "code",
   "execution_count": 3,
   "metadata": {},
   "outputs": [],
   "source": [
    "def dividir_lista (lista):\n",
    "  menor_cero = []\n",
    "  mayor_cero = []\n",
    "  for i in lista:\n",
    "    if i < 0:\n",
    "      menor_cero.append(i)\n",
    "    else:\n",
    "      mayor_cero.append(i)\n",
    "\n",
    "  menor_cero.sort()\n",
    "  mayor_cero.sort()\n",
    "  print(f\"Lista números menores a 0: {menor_cero}\")\n",
    "  print(f\"Lista números mayores a 0: {mayor_cero}\")"
   ]
  },
  {
   "cell_type": "code",
   "execution_count": 4,
   "metadata": {},
   "outputs": [
    {
     "name": "stdout",
     "output_type": "stream",
     "text": [
      "Lista números menores a 0: [-55, -21, -5, -4, -1]\n",
      "Lista números mayores a 0: [3, 6, 11, 11, 22, 32, 33]\n"
     ]
    }
   ],
   "source": [
    "dividir_lista([-55,33,-1,3,-4,-5,6,11,32,-21,11,22])"
   ]
  }
 ],
 "metadata": {
  "kernelspec": {
   "display_name": "PIA_Tarea1",
   "language": "python",
   "name": "python3"
  },
  "language_info": {
   "codemirror_mode": {
    "name": "ipython",
    "version": 3
   },
   "file_extension": ".py",
   "mimetype": "text/x-python",
   "name": "python",
   "nbconvert_exporter": "python",
   "pygments_lexer": "ipython3",
   "version": "3.12.7"
  }
 },
 "nbformat": 4,
 "nbformat_minor": 2
}
