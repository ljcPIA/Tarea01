{
 "cells": [
  {
   "cell_type": "markdown",
   "metadata": {},
   "source": [
    "# Problema 2. Frecuencia de palabras en un texto.\n",
    "Escribe un programa que pida al usuario ingresar una frase o párrafo. Luego, el programa debe contar cuántas<br> veces aparece cada palabra en el texto y mostrar las palabras junto con su frecuencia.\n",
    "Requisitos:\n",
    "1.\tEliminar los signos de puntuación y convertir todas las palabras a minúsculas para evitar diferencias.\n",
    "2.\tUsar un diccionario donde la clave sea la palabra y el valor sea su frecuencia.\n",
    "3.\tMostrar las palabras y sus frecuencias de forma ordenada por la palabra.\n"
   ]
  },
  {
   "cell_type": "code",
   "execution_count": 4,
   "metadata": {},
   "outputs": [],
   "source": [
    "def contar_palabras(texto):\n",
    "    signos_puntuacion = [\",\", \".\", \";\", \":\", \"...\", \"-\", \"_\", \"?\", \"¿\", \"¡\", \"!\", \"/\", \"(\", \")\", \"<\", \">\", \"[\", \"]\"]\n",
    "    diccionario_palabras = {}\n",
    "    for i in signos_puntuacion:\n",
    "        texto = texto.replace(i, \"\")\n",
    "\n",
    "    texto = texto.lower()\n",
    "    palabras = texto.split(\" \")   \n",
    "    for i in palabras:\n",
    "        try:\n",
    "            diccionario_palabras[i] = diccionario_palabras[i] + 1\n",
    "        except:\n",
    "            diccionario_palabras[i]=1\n",
    "            \n",
    "    diccionario_ordenado = dict(sorted(diccionario_palabras.items()))\n",
    "    \n",
    "    for k,v in diccionario_ordenado.items():\n",
    "        print(f\"La palabra '{k}': {v} vez/veces en el texto.\")"
   ]
  },
  {
   "cell_type": "code",
   "execution_count": 6,
   "metadata": {},
   "outputs": [
    {
     "name": "stdout",
     "output_type": "stream",
     "text": [
      "La palabra 'al': 1 vez/veces en el texto.\n",
      "La palabra 'aparece': 1 vez/veces en el texto.\n",
      "La palabra 'añadimos': 1 vez/veces en el texto.\n",
      "La palabra 'cada': 1 vez/veces en el texto.\n",
      "La palabra 'con': 1 vez/veces en el texto.\n",
      "La palabra 'contar': 1 vez/veces en el texto.\n",
      "La palabra 'cuántas': 1 vez/veces en el texto.\n",
      "La palabra 'debe': 1 vez/veces en el texto.\n",
      "La palabra 'el': 2 vez/veces en el texto.\n",
      "La palabra 'en': 1 vez/veces en el texto.\n",
      "La palabra 'escribe': 1 vez/veces en el texto.\n",
      "La palabra 'frase': 1 vez/veces en el texto.\n",
      "La palabra 'frecuencia': 1 vez/veces en el texto.\n",
      "La palabra 'ingresar': 1 vez/veces en el texto.\n",
      "La palabra 'junto': 1 vez/veces en el texto.\n",
      "La palabra 'las': 1 vez/veces en el texto.\n",
      "La palabra 'luego': 1 vez/veces en el texto.\n",
      "La palabra 'mostrar': 1 vez/veces en el texto.\n",
      "La palabra 'más': 1 vez/veces en el texto.\n",
      "La palabra 'o': 1 vez/veces en el texto.\n",
      "La palabra 'palabra': 1 vez/veces en el texto.\n",
      "La palabra 'palabras': 2 vez/veces en el texto.\n",
      "La palabra 'pida': 1 vez/veces en el texto.\n",
      "La palabra 'programa': 2 vez/veces en el texto.\n",
      "La palabra 'párrafo': 1 vez/veces en el texto.\n",
      "La palabra 'que': 1 vez/veces en el texto.\n",
      "La palabra 'su': 1 vez/veces en el texto.\n",
      "La palabra 'texto': 1 vez/veces en el texto.\n",
      "La palabra 'un': 1 vez/veces en el texto.\n",
      "La palabra 'una': 1 vez/veces en el texto.\n",
      "La palabra 'usuario': 1 vez/veces en el texto.\n",
      "La palabra 'veces': 1 vez/veces en el texto.\n",
      "La palabra 'y': 1 vez/veces en el texto.\n"
     ]
    }
   ],
   "source": [
    "texto = \"Escribe un programa que pida al usuario ingresar una frase o párrafo. Luego, el programa debe contar cuántas veces aparece cada palabra en el texto y mostrar las palabras junto con su frecuencia. Añadimos más palabras.\"\n",
    "contar_palabras(texto)"
   ]
  }
 ],
 "metadata": {
  "kernelspec": {
   "display_name": "PIA_Tarea1",
   "language": "python",
   "name": "python3"
  },
  "language_info": {
   "codemirror_mode": {
    "name": "ipython",
    "version": 3
   },
   "file_extension": ".py",
   "mimetype": "text/x-python",
   "name": "python",
   "nbconvert_exporter": "python",
   "pygments_lexer": "ipython3",
   "version": "3.12.7"
  }
 },
 "nbformat": 4,
 "nbformat_minor": 2
}
