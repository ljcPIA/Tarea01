{
 "cells": [
  {
   "cell_type": "markdown",
   "metadata": {},
   "source": [
    "# Problema 3. Intersección y unión de conjuntos\n",
    "Escribe un programa que permita al usuario crear dos conjuntos de números enteros. Luego, el programa debe calcular y mostrar:\n",
    "1. La intersección de ambos conjuntos (elementos comunes).\n",
    "2. La unión de ambos conjuntos (todos los elementos sin duplicados).\n",
    "3. La diferencia simétrica (elementos que están en uno u otro conjunto, pero no en ambos)."
   ]
  },
  {
   "cell_type": "code",
   "execution_count": 3,
   "metadata": {},
   "outputs": [],
   "source": [
    "def conjunto_numeros(a, b):\n",
    "    conjunto_comun = []\n",
    "    conjunto_union = []\n",
    "    conjunto_diferencia_simetrica = []\n",
    "    \n",
    "    for i in a:\n",
    "        if i in b:\n",
    "            conjunto_comun.append(i)\n",
    "\n",
    "    print(f\"Mostrando los elementos comunes de ambos conjuntos -> {conjunto_comun}\")\n",
    "\n",
    "    for i in a:\n",
    "        if i not in conjunto_union:\n",
    "            conjunto_union.append(i)\n",
    "    for i in b:\n",
    "        if i not in conjunto_union:\n",
    "            conjunto_union.append(i)\n",
    "    print(f\"Mostrando la union de ambos conjuntos ->  {conjunto_union}\")\n",
    "\n",
    "    for i in a:\n",
    "        if i not in b:\n",
    "            conjunto_diferencia_simetrica.append(i)\n",
    "\n",
    "    for i in b:\n",
    "        if i not in a:\n",
    "            conjunto_diferencia_simetrica.append(i)\n",
    "    print(f\"Mostrando la diferencia simétrica de ambos conjuntos -> {conjunto_diferencia_simetrica}\")\n",
    "    \n",
    "    \"\"\"Esta sería la forma rápida de hacerlo, usando métodos ya predefinidos por python en vez de bucles for\"\"\"\n",
    "    #interseccion = list(set(a).intersection(set(b)))\n",
    "    #print(f\"Mostrando los elementos comunes de ambos conjuntos -> {interseccion}\")\n",
    "\n",
    "    #union = list(set(a).union(set(b)))\n",
    "    #print(f\"Mostrando la union de ambos conjuntos -> {union}\")\n",
    "\n",
    "    #diferencia_simetrica = list(set(a).symmetric_difference(set(b)))\n",
    "    #print(f\"Mostrando la diferencia simétrica de ambos conjuntos -> {diferencia_simetrica}\")"
   ]
  },
  {
   "cell_type": "code",
   "execution_count": 4,
   "metadata": {},
   "outputs": [
    {
     "name": "stdout",
     "output_type": "stream",
     "text": [
      "Mostrando los elementos comunes de ambos conjuntos -> [3, 4]\n",
      "Mostrando la union de ambos conjuntos ->  [1, 2, 3, 4, 5, 6, 7, 8, 9, 0]\n",
      "Mostrando la diferencia simétrica de ambos conjuntos -> [1, 2, 5, 6, 7, 8, 9, 0]\n"
     ]
    }
   ],
   "source": [
    "conjunto_numeros([1,2,3,4,5,6], [4,7,3,8,9,0])"
   ]
  }
 ],
 "metadata": {
  "kernelspec": {
   "display_name": "PIA_Tarea1",
   "language": "python",
   "name": "python3"
  },
  "language_info": {
   "codemirror_mode": {
    "name": "ipython",
    "version": 3
   },
   "file_extension": ".py",
   "mimetype": "text/x-python",
   "name": "python",
   "nbconvert_exporter": "python",
   "pygments_lexer": "ipython3",
   "version": "3.12.7"
  }
 },
 "nbformat": 4,
 "nbformat_minor": 2
}
